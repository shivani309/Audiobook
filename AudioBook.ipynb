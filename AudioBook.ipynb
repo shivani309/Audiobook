{
 "cells": [
  {
   "cell_type": "markdown",
   "metadata": {},
   "source": [
    "import pyttsx3\n",
    "import PyPDF2\n",
    "book=open('D:\\OM\\blog.pdf')\n",
    "pdfreader=PyPdf2.PdfFileReader(book)\n",
    "pages=pdfReader.numPages\n",
    "print(pages)\n",
    "speaker= pyttsx3.init()\n",
    "page=pdfReader.getPage(0)\n",
    "speaker.say(\"hello om\")\n",
    "speaker.runAndWait()"
   ]
  },
  {
   "cell_type": "code",
   "execution_count": 1,
   "metadata": {},
   "outputs": [
    {
     "name": "stdout",
     "output_type": "stream",
     "text": [
      "Requirement already satisfied: PyPDF2 in c:\\users\\manish patil\\anaconda3\\lib\\site-packages (1.26.0)\n",
      "Requirement already satisfied: pyttsx3 in c:\\users\\manish patil\\anaconda3\\lib\\site-packages (2.90)\n",
      "Requirement already satisfied: pywin32; platform_system == \"Windows\" in c:\\users\\manish patil\\anaconda3\\lib\\site-packages (from pyttsx3) (223)\n",
      "Requirement already satisfied: comtypes; platform_system == \"Windows\" in c:\\users\\manish patil\\anaconda3\\lib\\site-packages (from pyttsx3) (1.1.7)\n",
      "Requirement already satisfied: pypiwin32; platform_system == \"Windows\" in c:\\users\\manish patil\\anaconda3\\lib\\site-packages (from pyttsx3) (223)\n"
     ]
    }
   ],
   "source": [
    "!pip install PyPDF2\n",
    "!pip install pyttsx3"
   ]
  },
  {
   "cell_type": "code",
   "execution_count": null,
   "metadata": {},
   "outputs": [
    {
     "name": "stdout",
     "output_type": "stream",
     "text": [
      "111\n"
     ]
    }
   ],
   "source": [
    "import pyttsx3\n",
    "import PyPDF2\n",
    "book=open('oop.pdf','rb')\n",
    "pdfreader=PyPDF2.PdfFileReader(book)\n",
    "pages=pdfreader.numPages\n",
    "print(pages)\n",
    "speaker= pyttsx3.init()\n",
    "for num in range(8, pages):\n",
    "    page=pdfreader.getPage(num)\n",
    "    text=page.extractText()\n",
    "    speaker.say(text)\n",
    "    speaker.runAndWait()\n"
   ]
  },
  {
   "cell_type": "code",
   "execution_count": null,
   "metadata": {},
   "outputs": [],
   "source": []
  },
  {
   "cell_type": "code",
   "execution_count": null,
   "metadata": {},
   "outputs": [],
   "source": []
  },
  {
   "cell_type": "code",
   "execution_count": null,
   "metadata": {},
   "outputs": [],
   "source": []
  }
 ],
 "metadata": {
  "kernelspec": {
   "display_name": "Python 3",
   "language": "python",
   "name": "python3"
  },
  "language_info": {
   "codemirror_mode": {
    "name": "ipython",
    "version": 3
   },
   "file_extension": ".py",
   "mimetype": "text/x-python",
   "name": "python",
   "nbconvert_exporter": "python",
   "pygments_lexer": "ipython3",
   "version": "3.7.4"
  }
 },
 "nbformat": 4,
 "nbformat_minor": 2
}
